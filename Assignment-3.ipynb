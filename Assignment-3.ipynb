{
 "cells": [
  {
   "cell_type": "raw",
   "metadata": {},
   "source": [
    "1.1 Write a Python Program to implement your own myreduce() function which works exactly\n",
    "like Python's built-in function reduce()"
   ]
  },
  {
   "cell_type": "code",
   "execution_count": 3,
   "metadata": {},
   "outputs": [
    {
     "name": "stdout",
     "output_type": "stream",
     "text": [
      "Enter the number:10\n",
      "Number list is: [1, 2, 3, 4, 5, 6, 7, 8, 9, 10]\n",
      "Sum of numbers is: 55\n"
     ]
    }
   ],
   "source": [
    "#progrm to find sum of natural numbers\n",
    "def myreduce(number):\n",
    "    num_list = list(range(1,number+1))\n",
    "    sum_of_num = 0\n",
    "    for i in num_list:\n",
    "        sum_of_num+=i\n",
    "    return num_list,sum_of_num\n",
    "\n",
    "number = int(input(\"Enter the number:\")) \n",
    "output = myreduce(number)\n",
    "print(\"Number list is:\",output[0])\n",
    "print(\"Sum of numbers is:\",output[1])\n",
    "    \n",
    "        \n",
    "    \n",
    "    "
   ]
  },
  {
   "cell_type": "markdown",
   "metadata": {},
   "source": [
    "1.2 Write a Python program to implement your own myfilter() function which works exactly\n",
    "like Python's built-in function filter()"
   ]
  },
  {
   "cell_type": "code",
   "execution_count": 5,
   "metadata": {},
   "outputs": [
    {
     "name": "stdout",
     "output_type": "stream",
     "text": [
      "Enter the number45\n",
      "Even number list is: [10, 20, 30, 40]\n",
      "Odd number list is: [5, 15, 25, 35, 45]\n"
     ]
    }
   ],
   "source": [
    "#filter the even and odd numbers from the list which are multiples of 5\n",
    "\n",
    "def myfilter(number):\n",
    "    num_list = list(range(1,number+1))\n",
    "    even_num =[]\n",
    "    odd_num = []\n",
    "    for i in num_list:\n",
    "        if i%5==0:\n",
    "            if i%2==0:\n",
    "                even_num.append(i)\n",
    "            else:\n",
    "                odd_num.append(i)\n",
    "    return even_num,odd_num\n",
    "\n",
    "number = int(input(\"Enter the number\"))\n",
    "output = myfilter(number)\n",
    "print(\"Even number list is:\",output[0])\n",
    "print(\"Odd number list is:\",output[1])\n",
    "        \n"
   ]
  },
  {
   "cell_type": "markdown",
   "metadata": {},
   "source": [
    "2. Implement List comprehensions to produce the following lists.\n",
    "Write List comprehensions to produce the following Lists\n",
    "['x', 'xx', 'xxx', 'xxxx', 'y', 'yy', 'yyy', 'yyyy', 'z', 'zz', 'zzz', 'zzzz']\n",
    "['x', 'y', 'z', 'xx', 'yy', 'zz', 'xxx', 'yyy', 'zzz', 'xxxx', 'yyyy', 'zzzz']\n",
    "[[2], [3], [4], [3], [4], [5], [4], [5], [6]] [[2, 3, 4, 5],[3, 4, 5, 6],[4, 5, 6, 7], [5, 6, 7, 8]]\n",
    "[(1, 1), (2, 1), (3, 1), (1, 2), (2, 2), (3, 2), (1, 3), (2, 3), (3, 3)]\n"
   ]
  },
  {
   "cell_type": "code",
   "execution_count": 2,
   "metadata": {},
   "outputs": [
    {
     "name": "stdout",
     "output_type": "stream",
     "text": [
      "['x', 'xx', 'xxx', 'xxxx', 'y', 'yy', 'yyy', 'yyyy', 'z', 'zz', 'zzz', 'zzzz']\n"
     ]
    }
   ],
   "source": [
    "letters = list('xyz')\n",
    "pattern = []\n",
    "[pattern.append(letters[i]*j) for i in range(len(letters)) for j in range(1,5)]\n",
    "print(pattern)"
   ]
  },
  {
   "cell_type": "code",
   "execution_count": 6,
   "metadata": {},
   "outputs": [
    {
     "name": "stdout",
     "output_type": "stream",
     "text": [
      "['x', 'y', 'z', 'xx', 'yy', 'zz', 'xxx', 'yyy', 'zzz', 'xxxx', 'yyyy', 'zzzz']\n"
     ]
    }
   ],
   "source": [
    "letters = list('xyz')\n",
    "pattern = []\n",
    "[pattern.append(letters[i]*j) for j in range(1,5) for i in range(len(letters)) ]\n",
    "print(pattern)"
   ]
  },
  {
   "cell_type": "code",
   "execution_count": 2,
   "metadata": {},
   "outputs": [
    {
     "name": "stdout",
     "output_type": "stream",
     "text": [
      "[[2], [3], [4], [3], [4], [5], [4], [5], [6]]\n"
     ]
    }
   ],
   "source": [
    "pattern = []\n",
    "[pattern.append([i+j]) for i in range(2,5) for j in range(3)]\n",
    "print(pattern)"
   ]
  },
  {
   "cell_type": "code",
   "execution_count": 17,
   "metadata": {},
   "outputs": [
    {
     "name": "stdout",
     "output_type": "stream",
     "text": [
      "[[2, 3], [2, 6], [3, 3], [3, 6], [4, 3], [4, 6]]\n"
     ]
    }
   ],
   "source": [
    "mylist = [2,3,4,5,6,7,8]\n",
    "pattern = []\n",
    "[pattern.append([i,mylist[j]]) for i in range(2,5) for j in (1,4)]\n",
    "print(pattern)"
   ]
  },
  {
   "cell_type": "code",
   "execution_count": 36,
   "metadata": {},
   "outputs": [
    {
     "name": "stdout",
     "output_type": "stream",
     "text": [
      "[[2, 3, 4, 5], [3, 4, 5, 6], [4, 5, 6, 7], [5, 6, 7, 8]]\n"
     ]
    }
   ],
   "source": [
    "mylist = [2,3,4,5]\n",
    "pattern = [ [i+j for i in mylist]for j in range(0,4)]\n",
    "print(pattern)"
   ]
  },
  {
   "cell_type": "code",
   "execution_count": 38,
   "metadata": {},
   "outputs": [
    {
     "name": "stdout",
     "output_type": "stream",
     "text": [
      "[(1, 1), (2, 1), (3, 1), (1, 2), (2, 2), (3, 2), (1, 3), (2, 3), (3, 3)]\n"
     ]
    }
   ],
   "source": [
    "mylist = [1,2,3]\n",
    "pattern = [ (b,a) for a in mylist for b in mylist]\n",
    "print(result)\n"
   ]
  }
 ],
 "metadata": {
  "kernelspec": {
   "display_name": "Python 3",
   "language": "python",
   "name": "python3"
  },
  "language_info": {
   "codemirror_mode": {
    "name": "ipython",
    "version": 3
   },
   "file_extension": ".py",
   "mimetype": "text/x-python",
   "name": "python",
   "nbconvert_exporter": "python",
   "pygments_lexer": "ipython3",
   "version": "3.8.5"
  }
 },
 "nbformat": 4,
 "nbformat_minor": 4
}
